{
 "cells": [
  {
   "cell_type": "markdown",
   "id": "1201a8e4",
   "metadata": {},
   "source": [
    "# Библиотеки для решения задачи"
   ]
  },
  {
   "cell_type": "code",
   "execution_count": 1,
   "id": "a3a28966",
   "metadata": {},
   "outputs": [],
   "source": [
    "import numpy as np\n",
    "import pandas as pd\n",
    "import matplotlib.pyplot as plt\n",
    "import scipy as sp\n",
    "\n",
    "def binomial_coeff(n):\n",
    "    return (n**2 + n)//2"
   ]
  },
  {
   "cell_type": "markdown",
   "id": "4281cf8e",
   "metadata": {},
   "source": [
    "# Прямоугльная область решения задачи"
   ]
  },
  {
   "cell_type": "code",
   "execution_count": 2,
   "id": "1ffbf2b7",
   "metadata": {},
   "outputs": [],
   "source": [
    "def make_grid(N, L, center, **kwargs):\n",
    "    # Границы сетки\n",
    "    x = np.linspace(-L[0]/2 - center[0], L[0]/2 - center[0], N[0] + 1)\n",
    "    y = np.linspace(-L[1]/2 - center[1], L[1]/2 - center[1], N[1] + 1)\n",
    "    z = np.linspace(-L[2]/2 - center[2], L[2]/2 - center[2], N[2] + 1)\n",
    "    \n",
    "    # Объем ячейки\n",
    "    h_x = x[1] - x[0]\n",
    "    h_y = y[1] - y[0]\n",
    "    h_z = z[1] - z[0]\n",
    "    volume = h_x * h_y * h_z\n",
    "    \n",
    "    # Середины - точки коллокации\n",
    "    x = (x[1:] + x[:-1])/2\n",
    "    y = (y[1:] + y[:-1])/2\n",
    "    z = (z[1:] + z[:-1])/2\n",
    "    \n",
    "    # Сетка - трехмерный тензор\n",
    "    grid_mesh = np.meshgrid(y,x,z)\n",
    "    grid = np.stack([grid_mesh[1], grid_mesh[0], grid_mesh[2]], axis=-1)\n",
    "    \n",
    "    return grid, volume"
   ]
  },
  {
   "cell_type": "markdown",
   "id": "b2f23027",
   "metadata": {},
   "source": [
    "# Вспомогательная программа для определения индекса рефракции"
   ]
  },
  {
   "cell_type": "code",
   "execution_count": 3,
   "id": "b2178816",
   "metadata": {},
   "outputs": [],
   "source": [
    "def step_dielectric_3d(grid,\n",
    "                       eps_real,\n",
    "                       eps_imag,\n",
    "                       x1_bounds,\n",
    "                       x2_bounds,\n",
    "                       x3_bounds):\n",
    "    \"\"\"\n",
    "    grid - Тензор (n_1, n_2, n_3, 3) для каждой точки пространства\n",
    "    eps_real\n",
    "    \"\"\"\n",
    "    if eps_real is None:\n",
    "        eps_real = [[1.0, 0.0, 0.0], [0.0, 1.0, 0.0], [0.0, 0.0, 1.0]]\n",
    "    if eps_imag is None:\n",
    "        eps_imag = [[0.0, 0.0, 0.0], [0.0, 0.0, 0.0], [0.0, 0.0, 0.0]]\n",
    "    if x1_bounds is None:\n",
    "        x1_bounds = [-1.0, 0.5]\n",
    "    if x2_bounds is None:\n",
    "        x2_bounds = [-1.0, 1.0]\n",
    "    if x3_bounds is None:\n",
    "        x3_bounds = [-1.0, 1.0]\n",
    "\n",
    "    eps = np.zeros((grid.shape[:3])) + 0.0j\n",
    "    indexes = ((grid[:, :, :, 0] >= x1_bounds[0]) * (grid[:, :, :, 0] <= x1_bounds[1]) *\n",
    "               (grid[:, :, :, 1] >= x2_bounds[0]) * (grid[:, :, :, 1] <= x2_bounds[1]) *\n",
    "               (grid[:, :, :, 2] >= x3_bounds[0]) * (grid[:, :, :, 2] <= x3_bounds[1]))\n",
    "    eps[indexes] = np.array(eps_real) + 1j * np.array(eps_imag)\n",
    "    return eps, indexes\n",
    "\n",
    "\n",
    "def ellipsis_dielectric_3d(grid,\n",
    "                           eps_real,\n",
    "                           eps_imag,\n",
    "                           center,\n",
    "                           radius):\n",
    "    if eps_real is None:\n",
    "        eps_real = [[1.0, 0.0, 0.0], [0.0, 1.0, 0.0], [0.0, 0.0, 1.0]]\n",
    "    if eps_imag is None:\n",
    "        eps_imag = [[0.0, 0.0, 0.0], [0.0, 0.0, 0.0], [0.0, 0.0, 0.0]]\n",
    "    if center is None:\n",
    "        center = [0.0, 0.0, 0.0]\n",
    "    if radius is None:\n",
    "        radius = [1.0, 1.0, 1.0]\n",
    "    eps = np.zeros((grid.shape[:3])) + 0j\n",
    "    indexes = (\n",
    "        ((grid[:, :, :, 0] - center[0]) ** 2) / (radius[0] ** 2) +\n",
    "        ((grid[:, :, :, 1] - center[1]) ** 2) / (radius[1] ** 2) +\n",
    "        ((grid[:, :, :, 2] - center[2]) ** 2) / (radius[2] ** 2)\n",
    "    ) <= 1\n",
    "    eps[indexes] = np.array(eps_real) + 1j * np.array(eps_imag)\n",
    "    return eps, indexes\n",
    "\n",
    "\n",
    "def apply_dielectric_3d(grid,\n",
    "                        eps_vec=None, **kwargs):\n",
    "    if eps_vec is None:\n",
    "        eps_vec = [\n",
    "            {\n",
    "                \"type\": \"step\",\n",
    "                \"eps_real\": 1.0,\n",
    "                \"eps_imag\": 0.0,\n",
    "                \"x1_bounds\": [-1.0, 0.0],\n",
    "                \"x2_bounds\": [-1.0, 1.0],\n",
    "                \"x3_bounds\": [-1.0, 1.0]\n",
    "            },\n",
    "            {\n",
    "                \"type\": \"ellipsis\",\n",
    "                \"eps_real\": 1.0,\n",
    "                \"eps_imag\": 0.0,\n",
    "                \"center\": [0.0, 0.0, 0.0],\n",
    "                \"radius\": [1.0, 1.0, 1.0]\n",
    "            }\n",
    "        ]\n",
    "\n",
    "    eps = np.zeros((grid.shape[:3])) + 0j\n",
    "    indexes = np.zeros(grid.shape[:3], dtype=bool)\n",
    "    for num, element in enumerate(eps_vec):\n",
    "        if element.get(\"type\") == \"step\":\n",
    "            eps_d, indexes_d = step_dielectric_3d(grid=grid,\n",
    "                                                  eps_real=element.get('eps_real'),\n",
    "                                                  eps_imag=element.get('eps_imag'),\n",
    "                                                  x1_bounds=element.get('x1_bounds'),\n",
    "                                                  x2_bounds=element.get('x2_bounds'),\n",
    "                                                  x3_bounds=element.get('x3_bounds'))\n",
    "        elif element.get(\"type\") == \"ellipsis\":\n",
    "            eps_d, indexes_d = ellipsis_dielectric_3d(grid=grid,\n",
    "                                                      eps_real=element.get('eps_real'),\n",
    "                                                      eps_imag=element.get('eps_imag'),\n",
    "                                                      center=element.get('center'),\n",
    "                                                      radius=element.get('radius'))\n",
    "        else:\n",
    "            continue\n",
    "        indexes += indexes_d\n",
    "        eps += eps_d\n",
    "    return eps, indexes"
   ]
  },
  {
   "cell_type": "markdown",
   "id": "092d9efe",
   "metadata": {},
   "source": [
    "# Определение ядра интегрального оператора"
   ]
  },
  {
   "cell_type": "code",
   "execution_count": 4,
   "id": "2d05371b",
   "metadata": {},
   "outputs": [],
   "source": [
    "def kernel(x, k=1, **kwargs):\n",
    "    return np.exp(1j * k * x)/(4 * np.pi * x)"
   ]
  },
  {
   "cell_type": "markdown",
   "id": "c6cd47d2",
   "metadata": {},
   "source": [
    "# Функция внешней плоской волны "
   ]
  },
  {
   "cell_type": "code",
   "execution_count": 5,
   "id": "b747cd9e",
   "metadata": {},
   "outputs": [],
   "source": [
    "def wave(x, k=1, orient=[1.0, 1.0, 1.0], sign=1, amplitude=1.0, **kwargs):\n",
    "    orient = np.array(orient) / np.linalg.norm(np.array(orient), 2)\n",
    "    return amplitude * np.exp(sign * 1j * k * (x.dot(orient)))"
   ]
  },
  {
   "cell_type": "markdown",
   "id": "9cdebb76",
   "metadata": {},
   "source": [
    "# Функция быстрого умножения тензора на вектор"
   ]
  },
  {
   "cell_type": "code",
   "execution_count": 6,
   "id": "f64a72bf",
   "metadata": {},
   "outputs": [],
   "source": [
    "def fast_bbtmv_mul(col_arr,\n",
    "                   row_arr,\n",
    "                   vec_arr,\n",
    "                   n, m, k):\n",
    "    \"\"\"\n",
    "\n",
    "    :param col_arr:\n",
    "    :param row_arr:\n",
    "    :param vec_arr:\n",
    "    :param n:\n",
    "    :param m:\n",
    "    :param k:\n",
    "    :return:\n",
    "    \"\"\"\n",
    "    circulant_tensor = np.zeros((2 * n, 2 * m, 2 * k)) + 0.0j\n",
    "    x_arr = np.zeros((2 * n, 2 * m, 2 * k)) + 0.0j\n",
    "\n",
    "    circulant_tensor[:n, :m, :k] = row_arr[:n, :m, :k]\n",
    "    circulant_tensor[n + 1:2 * n, :m, :k] = col_arr[n:0:-1, :m, :k]\n",
    "    circulant_tensor[:n, m + 1:2 * m, :k] = col_arr[:n, m:0:-1, :k]\n",
    "    circulant_tensor[:n, :m, k + 1: 2 * k] = col_arr[:n, :m, k:0:-1]\n",
    "    circulant_tensor[n + 1:2 * n, m + 1:2 * m, :k] = col_arr[n:0:-1, m:0:-1, :k]\n",
    "    circulant_tensor[:n, m + 1:2 * m, k + 1:2 * k] = col_arr[:n, m:0:-1, k:0:-1]\n",
    "    circulant_tensor[n + 1:2 * n, :m, k + 1:2 * k] = col_arr[n:0:-1, :m, k:0:-1]\n",
    "    circulant_tensor[n + 1:2 * n, m + 1:2 * m, k + 1:2 * k] = col_arr[n:0:-1, m:0:-1, k:0:-1]\n",
    "\n",
    "    x_arr[:n, :m, :k] = vec_arr[:n, :m, :k]\n",
    "\n",
    "    circulant_tensor = np.fft.fftn(circulant_tensor) * np.fft.fftn(x_arr)\n",
    "    circulant_tensor = np.fft.ifft(circulant_tensor)\n",
    "\n",
    "    return circulant_tensor[:n, :m, :k]\n",
    "\n",
    "\n",
    "def prep_fftbbtensor(col_arr,\n",
    "                     row_arr,\n",
    "                     n, m, k):\n",
    "    \"\"\"\n",
    "\n",
    "    \"\"\"\n",
    "    circulant_tensor = np.zeros((2 * n, 2 * m, 2 * k)) + 0.0j\n",
    "    col_arr = col_arr.reshape((n, m, k))\n",
    "    row_arr = row_arr.reshape((n, m, k))\n",
    "    circulant_tensor[:n, :m, :k] = row_arr[:n, :m, :k]\n",
    "    circulant_tensor[n + 1:2 * n, :m, :k] = col_arr[n:0:-1, :m, :k]\n",
    "    circulant_tensor[:n, m + 1:2 * m, :k] = col_arr[:n, m:0:-1, :k]\n",
    "    circulant_tensor[:n, :m, k + 1: 2 * k] = col_arr[:n, :m, k:0:-1]\n",
    "    circulant_tensor[n + 1:2 * n, m + 1:2 * m, :k] = col_arr[n:0:-1, m:0:-1, :k]\n",
    "    circulant_tensor[:n, m + 1:2 * m, k + 1:2 * k] = col_arr[:n, m:0:-1, k:0:-1]\n",
    "    circulant_tensor[n + 1:2 * n, :m, k + 1:2 * k] = col_arr[n:0:-1, :m, k:0:-1]\n",
    "    circulant_tensor[n + 1:2 * n, m + 1:2 * m, k + 1:2 * k] = col_arr[n:0:-1, m:0:-1, k:0:-1]\n",
    "    circulant_tensor = np.fft.fftn(circulant_tensor)\n",
    "    return circulant_tensor\n",
    "\n",
    "\n",
    "def prep_fbbtmv(prep_fft_arr,\n",
    "                vec_arr,\n",
    "                n, m, k):\n",
    "    \"\"\"\n",
    "\n",
    "    \"\"\"\n",
    "    x_arr = np.zeros((2 * n, 2 * m, 2 * k)) + 0.0j\n",
    "    x_arr[:n, :m, :k] = vec_arr[:n, :m, :k]\n",
    "    prep_fft_arr = np.fft.ifftn(prep_fft_arr * np.fft.fftn(x_arr))\n",
    "    return prep_fft_arr[:n, :m, :k]"
   ]
  },
  {
   "cell_type": "markdown",
   "id": "9ed43d1e",
   "metadata": {},
   "source": [
    "# Функция действия оператора"
   ]
  },
  {
   "cell_type": "code",
   "execution_count": 7,
   "id": "3b373fc9",
   "metadata": {},
   "outputs": [],
   "source": [
    "def operator(prep_operator_array, vector_array, eta, n, m, k):\n",
    "    result = np.zeros((n, m, k)) + 0.0j\n",
    "    vec_array = eta * vector_array\n",
    "    result = prep_fbbtmv(prep_fft_arr=prep_operator_array.reshape((2 * n, 2 * m, 2 * k)),\n",
    "                         vec_arr=vec_array.reshape((n, m, k)),\n",
    "                         n=n, m=m, k=k)\n",
    "    result = vector_array - result\n",
    "    return result\n",
    "\n",
    "def conj_operator(prep_conj_operator, vector_array, eta, n, m, k):\n",
    "    result = np.zeros((n, m, k)) + 0.0j\n",
    "    result = np.conj(eta) * prep_fbbtmv(prep_conj_operator, vector_array, n, m, k)\n",
    "    result = vector_array - result\n",
    "    return result"
   ]
  },
  {
   "cell_type": "markdown",
   "id": "e04a3218",
   "metadata": {},
   "source": [
    "# Метод минимальных невязок"
   ]
  },
  {
   "cell_type": "code",
   "execution_count": 8,
   "id": "0b9962b1",
   "metadata": {},
   "outputs": [],
   "source": [
    "def gmres(A, b, eta, n, m, l, x0=None, tol=1e-8, max_iter=None):\n",
    "    \"\"\"\n",
    "    Решение СЛАУ Ax = b итерационным методом GMRES (без предобуславливания).\n",
    "    \n",
    "    Параметры:\n",
    "    ----------\n",
    "    A : np.ndarray, shape = (n, n)\n",
    "        Квадратная матрица (в общем случае комплексная).\n",
    "    b : np.ndarray, shape = (n,)\n",
    "        Вектор правой части.\n",
    "    tol : float, optional (по умолчанию 1e-8)\n",
    "        Точность решения (критерий остановки по норме невязки).\n",
    "    max_iter : int, optional\n",
    "        Максимальное число итераций. Если None, то берётся max_iter = n.\n",
    "        \n",
    "    Возвращает:\n",
    "    -----------\n",
    "    x : np.ndarray, shape = (n,)\n",
    "        Приближённое решение СЛАУ.\n",
    "    info : int\n",
    "        Код завершения итерационного процесса:\n",
    "            0  - решение найдено с заданной точностью;\n",
    "            >0 - количество итераций, за которое достигнута остановка по достижению max_iter.\n",
    "    \"\"\"\n",
    "    # Если число максимально допустимых итераций не задано,\n",
    "    # присваиваем ему n\n",
    "    if max_iter is None:\n",
    "        max_iter = 1000\n",
    "    \n",
    "    # Начальное приближение x0 = 0\n",
    "    if x0 is None:\n",
    "        x = np.zeros((n, m, l), dtype=A.dtype)\n",
    "    \n",
    "    # Начальный вектор невязки r0 = b - A*x0 = b\n",
    "    r0 = b - operator(A, b, eta, n, m, l)\n",
    "    \n",
    "    # Норма начальной невязки\n",
    "    beta = np.linalg.norm(r0)\n",
    "    if beta < tol:\n",
    "        # Начальный вектор уже даёт решение\n",
    "        return x, 0\n",
    "    \n",
    "    # Массив для хранения ортонормированных векторов базиса Крылова\n",
    "    # V будет иметь размерность (n, max_iter+1)\n",
    "    V = np.zeros((n, m, l, max_iter+1), dtype=A.dtype)\n",
    "    # Верхне-гауссова матрица Хессенберга H (размерностью (max_iter+1, max_iter))\n",
    "    H = np.zeros((max_iter+1, max_iter), dtype=A.dtype)\n",
    "    \n",
    "    # Первый единичный вектор v1 = r0 / ||r0||\n",
    "    V[:, :, :, 0] = r0 / beta\n",
    "    \n",
    "    # Вектор g, который будет хранить величины (beta, 0, 0, ...)\n",
    "    g = np.zeros(max_iter+1, dtype=A.dtype)\n",
    "    g[0] = beta\n",
    "    \n",
    "    # Переменные для хранения текущей итерации и фактора вращения (Givens rotations)\n",
    "    cs = np.zeros(max_iter+1, dtype=A.dtype)  # косинусы\n",
    "    sn = np.zeros(max_iter+1, dtype=A.dtype)  # синусы\n",
    "    \n",
    "    # Основной цикл итераций GMRES\n",
    "    for k in range(max_iter):\n",
    "        # 1. Вычисляем w = A * v_k\n",
    "        w = operator(A, V[:, :, :, k], eta, n, m, l)\n",
    "        \n",
    "        # 2. Ортогонализируем w относительно всех предыдущих v_j (j=1..k)\n",
    "        for j in range(k+1):\n",
    "            H[j, k] = np.vdot(V[:, :, :, j].reshape(-1, ), w.reshape(-1, ))\n",
    "            w -= H[j, k] * V[:, :, :, j]\n",
    "        \n",
    "        # 3. Норма вектора w\n",
    "        H[k+1, k] = np.linalg.norm(w)\n",
    "        \n",
    "        # Если норма w практически 0, завершаем итерации\n",
    "        if abs(H[k+1, k]) < 1e-15:\n",
    "            # Решаем маленькую систему\n",
    "            y = np.linalg.lstsq(H[:k+1, :k+1], g[:k+1], rcond=None)[0]\n",
    "            x = x + np.dot(V[:, :, :, :k+1], np.conj(y))\n",
    "            return x, 0  # решение найдено досрочно\n",
    "        \n",
    "        # 4. Нормируем w и добавляем в список ортонормированных векторов\n",
    "        V[:,:,:,k+1] = w / H[k+1, k]\n",
    "        \n",
    "        # 5. Применяем вращения (Givens rotations), чтобы превратить H в верхнюю треугольную\n",
    "        for i in range(k):\n",
    "            # Сохраняем старые значения для обновления\n",
    "            temp = cs[i]*H[i, k] + sn[i]*H[i+1, k]\n",
    "            H[i+1, k] = -sn[i]*H[i, k] + cs[i]*H[i+1, k]\n",
    "            H[i, k] = temp\n",
    "        \n",
    "        # 6. Вычисляем новые значения cs[k], sn[k] для зануления H[k+1, k]\n",
    "        r = np.hypot(H[k, k].real, H[k+1, k].real)\n",
    "        cs[k] = H[k, k] / r\n",
    "        sn[k] = -H[k+1, k] / r\n",
    "        H[k, k] = cs[k]*H[k, k] - sn[k]*H[k+1, k]\n",
    "        H[k+1, k] = 0.0\n",
    "        \n",
    "        # 7. Обновляем вектор g\n",
    "        temp = cs[k]*g[k] - sn[k]*g[k+1]\n",
    "        g[k+1] = sn[k]*g[k] + cs[k]*g[k+1]\n",
    "        g[k] = temp\n",
    "        \n",
    "        # 8. Проверяем невязку по текущему значению g[k+1]\n",
    "        resid = abs(g[k+1])\n",
    "        print(f\"Итерация №{k+1}: умножений М-В L = {k+1},\\n умножений В-В V = {binomial_coeff(k+1)},\\n невязка resid = {round(resid, 8)}\\n\")\n",
    "        if resid < tol:\n",
    "            # Находим решение через малую систему H и g\n",
    "            y = np.linalg.lstsq(H[:k+1, :k+1], g[:k+1], rcond=None)[0]\n",
    "            x = x + np.dot(V[:, :, :, :k+1], np.conj(y))        \n",
    "            return x, 0  # решение найдено с нужной точностью\n",
    "    \n",
    "    # Если мы дошли до max_iter итераций, считаем, что решение не достигло tol\n",
    "    # Решение на данном шаге:\n",
    "    y = np.linalg.lstsq(H[:max_iter, :max_iter], g[:max_iter], rcond=None)[0]\n",
    "    x = x + np.dot(V[:, :, :, :max_iter],np.conj(y))\n",
    "    return x, k"
   ]
  },
  {
   "cell_type": "markdown",
   "id": "e8aed45b",
   "metadata": {},
   "source": [
    "# Стабилизированный метод бисопряженных градиентов"
   ]
  },
  {
   "cell_type": "code",
   "execution_count": 9,
   "id": "8cddcc59",
   "metadata": {},
   "outputs": [],
   "source": [
    "def BiCGStab_nu(matrix_A,                # Квадратная матрица оператора\n",
    "                vector_f,                # Внешний вектор\n",
    "                vector_nu=None,          # Неоднородность задачи (рефракция)\n",
    "                vector_u0=None,          # Начальное положение искомого вектора\n",
    "                n=20, m=20, k=20,\n",
    "                eps=10e-07,              # Точность решения задачи\n",
    "                max_iter=2000):          # Максимальное количество итераций\n",
    "    # Инициализация начальной переменной\n",
    "    if vector_u0 is None:\n",
    "        vector_u0 = np.zeros(vector_f.shape) + 0j\n",
    "    vector_u1 = vector_u0\n",
    "    # Инициализация неоднородностей\n",
    "    if vector_nu is None:\n",
    "        vector_nu = np.ones(vector_f.shape) + 0j\n",
    "    # Итерационный процесс\n",
    "    r_0 = vector_f - operator(matrix_A, vector_u0, vector_nu, n, m, k)\n",
    "    r_tild = r_0\n",
    "    rho_0 = 1\n",
    "    alpha_0 = 1\n",
    "    omega_0 = 1\n",
    "    v_0 = np.zeros(vector_f.shape[0])\n",
    "    p_0 = np.zeros(vector_f.shape[0])\n",
    "    k_i = 1\n",
    "    iters = []\n",
    "    accuracy_iters = []\n",
    "    resid_iters = []\n",
    "    for it in np.arange(max_iter):\n",
    "        rho_1 = np.sum(np.conj(r_tild) * r_0)\n",
    "        beta_1 = (rho_1 / rho_0) * (alpha_0 / omega_0)\n",
    "        p_1 = r_0 + beta_1 * (p_0 - omega_0 * v_0)\n",
    "        v_1 = operator(matrix_A, p_1, vector_nu, n, m, k) # A @ p_1 == p_1 + A @ (p_1 * nu)\n",
    "        alpha_1 = rho_1 / np.sum(np.conj(r_tild) * v_1)\n",
    "        s_1 = r_0 - alpha_1 * v_1\n",
    "        t_1 = operator(matrix_A, s_1, vector_nu, n, m, k) # A @ s_1 == s_1 + A @ (s_1 * nu)\n",
    "        omega_1 = np.sum(t_1 * np.conj(s_1)) / np.sum(t_1 * np.conj(t_1))\n",
    "        vector_u1 = vector_u0 + omega_1 * s_1 + alpha_1 * p_1\n",
    "        r_1 = s_1 - omega_1 * t_1\n",
    "        k_i += 2\n",
    "        iters.append(k_i)\n",
    "        delta_u = vector_u1 - vector_u0\n",
    "        accuracy = np.sum(delta_u * np.conj(delta_u)) / np.sum(vector_f * np.conj(vector_f))\n",
    "        accuracy_iters.append(np.real(accuracy))\n",
    "        resid = operator(matrix_A, vector_u1, vector_nu, n, m, k) - vector_f\n",
    "        resid_iters.append(np.real(np.sqrt(np.sum(resid * np.conj(resid)))))\n",
    "        print(f\"Итерация №{it}: умножений М-В L = {it*2},\\n умножений В-В V = {it*6},\\n невязка resid = {round(resid_iters[-1], 8)}\\n\")\n",
    "        if (np.real(resid_iters[-1]) < eps):\n",
    "            break\n",
    "        vector_u0 = vector_u1\n",
    "        rho_0 = rho_1\n",
    "        alpha_0 = alpha_1\n",
    "        omega_0 = omega_1\n",
    "        v_0 = v_1\n",
    "        p_0 = p_1\n",
    "        r_0 = r_1\n",
    "    return vector_u1, iters, accuracy_iters, resid_iters"
   ]
  },
  {
   "cell_type": "markdown",
   "id": "9cdb258b",
   "metadata": {},
   "source": [
    "# Двухшаговый метод градиентного спуска"
   ]
  },
  {
   "cell_type": "markdown",
   "id": "814886b6",
   "metadata": {},
   "source": [
    "$$\n",
    "\\begin{array}{c}\n",
    "\t\tz_1 = z_0 - \\frac{\\lVert \\textbf{H}^* r_0 \\rVert^2}{\\lVert \\textbf{H} \\textbf{H}^* r_0 \\rVert^2} \\textbf{H}^* r_0, \\quad r_0 = \\textbf{H} z_0 - f, \\\\\n",
    "\t\t\\\\\n",
    "\t\tz_{k+1} = z_{k} - t_{k} (z_{k} - z_{k-1}) - h_k \\textbf{H}^{*} r_k, \\quad r_k = \\textbf{H} z_k - f,\\ k = 1, 2, \\dots,\\\\\n",
    "\t\t\\\\\n",
    "\t\tt_k \\lVert r_{k} - r_{k-1} \\rVert^2 + h_k \\lVert \\textbf{H}^{*} r_k \\rVert^2 = 0,\\\\\n",
    "\t\t\\\\\n",
    "\t\tt_k \\lVert \\textbf{H}^{*} r_k \\rVert^2 + h_k \\lVert \\textbf{H} \\textbf{H}^{*} r_k \\rVert^2 = \\lVert \\textbf{H}^{*} r_k \\rVert^2,\n",
    "\t\\end{array}\n",
    "$$"
   ]
  },
  {
   "cell_type": "markdown",
   "id": "408dab44",
   "metadata": {},
   "source": [
    "1. $l_0 = H\\cdot z_0$\n",
    "2. $r_0 = l_0 - f$\n",
    "3. $l_1 = H^{*} \\cdot r_0$\n",
    "4. $l_2 = H\\cdot l_1$\n",
    "5. $z_1 = z_0 - \\frac{\\lVert l_1 \\rVert^2}{\\lVert l_2 \\rVert^2} \\cdot l_1$\n",
    "\n",
    "- for k in range(1, max_iter):\n",
    "6. $l_0 = H\\cdot z_k$\n",
    "7. $r_k = l_0 - f$\n",
    "8. $l_1 = H^{*} \\cdot r_k$\n",
    "9. $l_2 = H \\cdot l_1$\n",
    "10. $a_0 = \\lVert r_k - r_{k-1} \\rVert^2$\n",
    "11. $a_1 = \\lVert l_1 \\rVert^2$\n",
    "12. $a_2 = \\lVert l_2 \\rVert^2$\n",
    "13. $t_k = \\frac{-a_1 \\cdot a_1}{a_0 \\cdot a_2 - a_1 \\cdot a_1}$\n",
    "14. $h_k = \\frac{a_0 \\cdot a_1}{a_0 \\cdot a_2 - a_1 \\cdot a_1} $\n",
    "15. $z_{k+1} = z_{k} - t_k \\cdot(z_k - z_{k-1}) - h_k \\cdot l_1$\n"
   ]
  },
  {
   "cell_type": "code",
   "execution_count": 36,
   "id": "5af79f65",
   "metadata": {},
   "outputs": [],
   "source": [
    "def complex_norm(a):\n",
    "    return np.sum(a * np.conj(a)).real\n",
    "\n",
    "def TwoStep(prep_fourier_oper, prep_conj_oper, vector_f, vector_nu, \n",
    "            z_0=None, n_1=20, n_2=20, n_3=20, rtol=10e-8, max_iter=None):\n",
    "    \n",
    "    if max_iter is None:\n",
    "        max_iter=100\n",
    "    if z_0 is None:\n",
    "        z_0 = np.zeros(vector_f.shape) + 0.0j\n",
    "    \n",
    "    # Логи итераций\n",
    "    iters_list = []\n",
    "    eps_list = []\n",
    "    resid_list = []\n",
    "    \n",
    "    # Норма вектора свободных коэффициентов\n",
    "    f_norm = np.sqrt(complex_norm(vector_f))\n",
    "    \n",
    "    # Итерационный процесс\n",
    "    l_0 = operator(prep_fourier_oper, z_0, vector_nu, n_1, n_2, n_3)\n",
    "    r_0 = l_0 - vector_f\n",
    "    l_1 = conj_operator(prep_conj_oper, r_0, vector_nu, n_1, n_2, n_3)\n",
    "    l_2 = operator(prep_fourier_oper, l_1, vector_nu, n_1, n_2, n_3)\n",
    "    z_1 = z_0 - complex_norm(l_1) / complex_norm(l_2) * l_1\n",
    "    \n",
    "    # Расчет критерия останова\n",
    "    eps = np.sqrt(complex_norm(z_1 - z_0)) / f_norm\n",
    "    \n",
    "    # Пополнение списков для логов итераций\n",
    "    iters_list.append(3)\n",
    "    eps_list.append(eps)\n",
    "    resid_list.append(r_0)\n",
    "    print(f'Итерация №1: Умножений М-В L = {iters_list[-1]}, Умножений В-В V = {4}, Критерий останова eps = {eps_list[-1]}')\n",
    "    if (eps < rtol):\n",
    "        return z_1, iters_list, eps_list, resid_list \n",
    "    \n",
    "    # Цикл, если \n",
    "    for it in range(2, max_iter):\n",
    "        l_0 = operator(prep_fourier_oper, z_1, vector_nu, n_1, n_2, n_3)\n",
    "        r_k = l_0 - vector_f\n",
    "        l_1 = conj_operator(prep_conj_oper, r_k, vector_nu, n_1, n_2, n_3)\n",
    "        l_2 = operator(prep_fourier_oper, l_1, vector_nu, n_1, n_2, n_3)\n",
    "        \n",
    "        delta_rk = r_k - r_0\n",
    "        a_0 = complex_norm(delta_rk)\n",
    "        a_1 = complex_norm(l_1)\n",
    "        a_2 = complex_norm(l_2)\n",
    "        \n",
    "        det = (a_0 * a_2 - a_1 * a_1)\n",
    "        t_k = -(a_1 * a_1) / det\n",
    "        h_k = (a_0 * a_1) / det\n",
    "        \n",
    "        z_k = z_1 - t_k * (z_1 - z_0) - h_k * l_1\n",
    "        \n",
    "        eps = np.sqrt(complex_norm(z_k - z_1)) / f_norm \n",
    "        \n",
    "        iters_list.append(iters_list[-1] + 3)\n",
    "        eps_list.append(eps)\n",
    "        resid_list.append(r_k)\n",
    "\n",
    "        print(f'Итерация №{it}: Умножений М-В L = {iters_list[-1]}, Умножений В-В V = {it*4}, Критерий останова eps = {eps_list[-1]}')\n",
    "        if (eps < rtol):\n",
    "            break\n",
    "        \n",
    "        r_0 = np.copy(r_k)\n",
    "        z_0 = np.copy(z_1)\n",
    "        z_1 = np.copy(z_k)\n",
    "    return z_k, iters_list, eps_list, resid_list"
   ]
  },
  {
   "cell_type": "markdown",
   "id": "04066894",
   "metadata": {},
   "source": [
    "# Визуализация решения в плоскости"
   ]
  },
  {
   "cell_type": "code",
   "execution_count": 11,
   "id": "84826392",
   "metadata": {},
   "outputs": [],
   "source": [
    "def plot_xy(array, grid, idx=None):\n",
    "    if idx is None:\n",
    "        idx = array.shape[1]//2\n",
    "    plt.imshow(array[:, :, idx])\n",
    "    plt.xlabel(r\"$x_1$\")\n",
    "    plt.ylabel(r\"$x_2$\")\n",
    "    plt.show()\n",
    "    \n",
    "def plot_xz(array, grid, idx=None):\n",
    "    if idx is None:\n",
    "        idx = array.shape[1]//2\n",
    "    plt.imshow(array[:, idx, :])\n",
    "    plt.xlabel(r\"$x_1$\")\n",
    "    plt.ylabel(r\"$x_3$\")\n",
    "    plt.show()\n",
    "\n",
    "def plot_yz(array, grid, idx=None):\n",
    "    if idx is None:\n",
    "        idx = array.shape[1]//2\n",
    "    plt.imshow(array[:, :, idx])\n",
    "    plt.xlabel(r\"$x_2$\")\n",
    "    plt.ylabel(r\"$x_3$\")\n",
    "    plt.show()\n"
   ]
  },
  {
   "cell_type": "markdown",
   "id": "e7f9d599",
   "metadata": {},
   "source": [
    "# Скрипт решения задачи"
   ]
  },
  {
   "cell_type": "markdown",
   "id": "2ad4df5a",
   "metadata": {},
   "source": [
    "## Конфиг решения задачи\n",
    "\n",
    "- **N** - список из трех значений для количества элементов на сетке\n",
    "- **L** - \n",
    "- **center**\n",
    "- **k**\n",
    "- **orient**\n",
    "- **amplitude**\n",
    "- **sign**\n",
    "- **eps_vec**"
   ]
  },
  {
   "cell_type": "code",
   "execution_count": 12,
   "id": "57a1af4c",
   "metadata": {},
   "outputs": [],
   "source": [
    "problem_config = {\n",
    "    'N': [50, 50, 50],\n",
    "    'L': [3.0, 3.0, 3.0],\n",
    "    'center': [0.0, 0.0, 0.0],\n",
    "    'k': 10.0,\n",
    "    'orient': [1.0, 1.0, 1.0],\n",
    "    'amplitude': 1.0,\n",
    "    'sign': 1.0,\n",
    "    'eps_vec': [\n",
    "        {\n",
    "            \"type\": \"step\",\n",
    "            \"eps_real\": 1.0,\n",
    "            \"eps_imag\": 0.0,\n",
    "            \"x1_bounds\": [-2.0, 2.0],\n",
    "            \"x2_bounds\": [-2.0, 2.0],\n",
    "            \"x3_bounds\": [-2.0, 2.0]\n",
    "        },\n",
    "        {\n",
    "            \"type\": \"ellipsis\",\n",
    "            \"eps_real\": 3.0,\n",
    "            \"eps_imag\": 1.56,\n",
    "            \"center\": [0.0, 0.0, 0.0],\n",
    "            \"radius\": [1.0, 1.0, 1.0]\n",
    "        }\n",
    "    ]\n",
    "}\n",
    "\n",
    "n_1 = problem_config.get('N')[0]\n",
    "n_2 = problem_config.get('N')[1]\n",
    "n_3 = problem_config.get('N')[2]"
   ]
  },
  {
   "cell_type": "code",
   "execution_count": 13,
   "id": "80375c85",
   "metadata": {},
   "outputs": [
    {
     "name": "stdout",
     "output_type": "stream",
     "text": [
      "Размерность сетки (50, 50, 50, 3)\n",
      "Объем ячейки 0.000216\n"
     ]
    }
   ],
   "source": [
    "# Трехмерная сетка\n",
    "grid, volume = make_grid(**problem_config)\n",
    "\n",
    "print(\"Размерность сетки\", grid.shape)\n",
    "print(\"Объем ячейки\", round(volume, 6))"
   ]
  },
  {
   "cell_type": "code",
   "execution_count": 14,
   "id": "6698f781",
   "metadata": {},
   "outputs": [
    {
     "data": {
      "text/plain": [
       "(50, 50, 50)"
      ]
     },
     "execution_count": 14,
     "metadata": {},
     "output_type": "execute_result"
    }
   ],
   "source": [
    "# Индекс рефракции среды, определенный в точках сетки\n",
    "eta, indexes = apply_dielectric_3d(grid, **problem_config)\n",
    "eta.shape"
   ]
  },
  {
   "cell_type": "code",
   "execution_count": 15,
   "id": "64e428b6",
   "metadata": {},
   "outputs": [
    {
     "name": "stdout",
     "output_type": "stream",
     "text": [
      "Количество значений на сетке (50, 50, 50)\n",
      "Мощность волны 1.0\n"
     ]
    }
   ],
   "source": [
    "# Внешняя волна, определенная в точках сетки\n",
    "f_wave = wave(grid, **problem_config)\n",
    "power_f = np.sum(np.abs(f_wave))/f_wave.size\n",
    "\n",
    "print(\"Количество значений на сетке\", f_wave.shape)\n",
    "print(\"Мощность волны\", power_f)"
   ]
  },
  {
   "cell_type": "code",
   "execution_count": 16,
   "id": "7a7f3861",
   "metadata": {},
   "outputs": [],
   "source": [
    "# Определение массива дисркетизированного ядра оператора\n",
    "dists = np.linalg.norm((grid[0, 0, 0, :] - grid[:, :, :, :]), 2, axis=3)\n",
    "dists[0, 0, 0] = 10e-8\n",
    "G_array = kernel(dists, **problem_config) * volume\n",
    "G_array[0, 0, 0] = 0\n",
    "\n",
    "# Массив ядра интегрального уравнения\n",
    "prep_fourier_oper = prep_fftbbtensor(G_array, G_array, n=n_1, m=n_2, k=n_3)\n",
    "# Массив комплексно-сопряженных значений ядра интегрального уравнения\n",
    "prep_conj_oper = prep_fftbbtensor(np.conj(G_array), np.conj(G_array), n_1, n_2, n_3)"
   ]
  },
  {
   "cell_type": "code",
   "execution_count": 17,
   "id": "2fbc315e",
   "metadata": {},
   "outputs": [],
   "source": [
    "# Умножение внешней волны на ядро оператора\n",
    "u0_array = prep_fbbtmv(prep_fourier_oper, f_wave, n_1, n_2, n_3)"
   ]
  },
  {
   "cell_type": "code",
   "execution_count": 18,
   "id": "938c6d6c",
   "metadata": {},
   "outputs": [
    {
     "data": {
      "text/plain": [
       "1.0"
      ]
     },
     "execution_count": 18,
     "metadata": {},
     "output_type": "execute_result"
    }
   ],
   "source": [
    "np.sum(np.abs(f_wave))/f_wave.size"
   ]
  },
  {
   "cell_type": "code",
   "execution_count": 29,
   "id": "b338bd58",
   "metadata": {},
   "outputs": [
    {
     "name": "stdout",
     "output_type": "stream",
     "text": [
      "Итерация №1: умножений М-В L = 1,\n",
      " умножений В-В V = 1,\n",
      " невязка resid = 1.42186541\n",
      "\n",
      "Итерация №2: умножений М-В L = 2,\n",
      " умножений В-В V = 3,\n",
      " невязка resid = 0.10009549\n",
      "\n",
      "Итерация №3: умножений М-В L = 3,\n",
      " умножений В-В V = 6,\n",
      " невязка resid = 0.00530009\n",
      "\n",
      "Итерация №4: умножений М-В L = 4,\n",
      " умножений В-В V = 10,\n",
      " невязка resid = 0.0003665\n",
      "\n",
      "Итерация №5: умножений М-В L = 5,\n",
      " умножений В-В V = 15,\n",
      " невязка resid = 2.144e-05\n",
      "\n",
      "Итерация №6: умножений М-В L = 6,\n",
      " умножений В-В V = 21,\n",
      " невязка resid = 1.18e-06\n",
      "\n",
      "Итерация №7: умножений М-В L = 7,\n",
      " умножений В-В V = 28,\n",
      " невязка resid = 8e-08\n",
      "\n",
      "Итерация №8: умножений М-В L = 8,\n",
      " умножений В-В V = 36,\n",
      " невязка resid = 0.0\n",
      "\n"
     ]
    }
   ],
   "source": [
    "# GMRES\n",
    "result, iters = gmres(prep_fourier_oper, f_wave, eta - 1.0, n_1, n_2, n_3)"
   ]
  },
  {
   "cell_type": "code",
   "execution_count": 30,
   "id": "41c5b12e",
   "metadata": {},
   "outputs": [
    {
     "data": {
      "text/plain": [
       "0.057259861537896445"
      ]
     },
     "execution_count": 30,
     "metadata": {},
     "output_type": "execute_result"
    }
   ],
   "source": [
    "np.sum(np.abs(result))/result.size"
   ]
  },
  {
   "cell_type": "code",
   "execution_count": 31,
   "id": "969b3b9b",
   "metadata": {},
   "outputs": [
    {
     "name": "stdout",
     "output_type": "stream",
     "text": [
      "Итерация №0: умножений М-В L = 0,\n",
      " умножений В-В V = 0,\n",
      " невязка resid = 4.99879685\n",
      "\n",
      "Итерация №1: умножений М-В L = 2,\n",
      " умножений В-В V = 6,\n",
      " невязка resid = 0.04935138\n",
      "\n",
      "Итерация №2: умножений М-В L = 4,\n",
      " умножений В-В V = 12,\n",
      " невязка resid = 0.00075844\n",
      "\n",
      "Итерация №3: умножений М-В L = 6,\n",
      " умножений В-В V = 18,\n",
      " невязка resid = 2.482e-05\n",
      "\n",
      "Итерация №4: умножений М-В L = 8,\n",
      " умножений В-В V = 24,\n",
      " невязка resid = 5e-08\n",
      "\n"
     ]
    }
   ],
   "source": [
    "result_BICGStab, iters_BICGStab, accuracy_iters_BICGStab, resid_iters_BICGStab = \\\n",
    "BiCGStab_nu(matrix_A=prep_fourier_oper, vector_f=f_wave, vector_nu=eta-1, vector_u0=None, n=n_1, m=n_2, k=n_3)"
   ]
  },
  {
   "cell_type": "code",
   "execution_count": 32,
   "id": "d9aff886",
   "metadata": {},
   "outputs": [
    {
     "data": {
      "text/plain": [
       "0.9823468101015543"
      ]
     },
     "execution_count": 32,
     "metadata": {},
     "output_type": "execute_result"
    }
   ],
   "source": [
    "np.sum(np.abs(result_BICGStab))/result_BICGStab.size"
   ]
  },
  {
   "cell_type": "code",
   "execution_count": 44,
   "id": "07f8eeb5",
   "metadata": {},
   "outputs": [
    {
     "name": "stdout",
     "output_type": "stream",
     "text": [
      "Итерация №1: Умножений М-В L = 3, Умножений В-В V = 4, Критерий останова eps = 0.9311581739951635\n",
      "Итерация №2: Умножений М-В L = 6, Умножений В-В V = 8, Критерий останова eps = 0.16669580835666198\n",
      "Итерация №3: Умножений М-В L = 9, Умножений В-В V = 12, Критерий останова eps = 0.03861320686997262\n",
      "Итерация №4: Умножений М-В L = 12, Умножений В-В V = 16, Критерий останова eps = 0.007597497817549388\n",
      "Итерация №5: Умножений М-В L = 15, Умножений В-В V = 20, Критерий останова eps = 0.0014887235777697298\n",
      "Итерация №6: Умножений М-В L = 18, Умножений В-В V = 24, Критерий останова eps = 0.0002421031345106529\n",
      "Итерация №7: Умножений М-В L = 21, Умножений В-В V = 28, Критерий останова eps = 4.9783262787340615e-05\n",
      "Итерация №8: Умножений М-В L = 24, Умножений В-В V = 32, Критерий останова eps = 9.904980263741963e-06\n",
      "Итерация №9: Умножений М-В L = 27, Умножений В-В V = 36, Критерий останова eps = 1.724711693010663e-06\n",
      "Итерация №10: Умножений М-В L = 30, Умножений В-В V = 40, Критерий останова eps = 3.514809147610377e-07\n",
      "Итерация №11: Умножений М-В L = 33, Умножений В-В V = 44, Критерий останова eps = 6.703329860542838e-08\n"
     ]
    }
   ],
   "source": [
    "result_TS, iterations_TS, accuracy_TS, resid_TS = \\\n",
    "TwoStep(prep_fourier_oper, \n",
    "        prep_conj_oper, \n",
    "        f_wave, \n",
    "        eta, \n",
    "        z_0=None, \n",
    "        n_1=n_1, n_2=n_2, n_3=n_3, \n",
    "        rtol=10e-8, max_iter=None)"
   ]
  },
  {
   "cell_type": "code",
   "execution_count": 45,
   "id": "c860ecb1",
   "metadata": {},
   "outputs": [
    {
     "data": {
      "text/plain": [
       "0.981506742243485"
      ]
     },
     "execution_count": 45,
     "metadata": {},
     "output_type": "execute_result"
    }
   ],
   "source": [
    "np.sum(np.abs(result_TS))/result_TS.size"
   ]
  },
  {
   "cell_type": "code",
   "execution_count": 46,
   "id": "813c7320",
   "metadata": {},
   "outputs": [
    {
     "data": {
      "image/png": "[encoded data removed]",
      "text/plain": [
       "<Figure size 640x480 with 1 Axes>"
      ]
     },
     "metadata": {},
     "output_type": "display_data"
    },
    {
     "data": {
      "image/png": "[encoded data removed]",
      "text/plain": [
       "<Figure size 640x480 with 1 Axes>"
      ]
     },
     "metadata": {},
     "output_type": "display_data"
    },
    {
     "data": {
      "image/png": "[encoded data removed]",
      "text/plain": [
       "<Figure size 640x480 with 1 Axes>"
      ]
     },
     "metadata": {},
     "output_type": "display_data"
    }
   ],
   "source": [
    "plot_xy(result.real, grid)\n",
    "plot_xy(result_TS.imag, grid)\n",
    "plot_xy(result_BICGStab.real, grid)"
   ]
  },
  {
   "cell_type": "code",
   "execution_count": 26,
   "id": "7fe66572",
   "metadata": {},
   "outputs": [
    {
     "data": {
      "image/png": "[encoded data removed]",
      "text/plain": [
       "<Figure size 640x480 with 1 Axes>"
      ]
     },
     "metadata": {},
     "output_type": "display_data"
    }
   ],
   "source": [
    "plot_xz(result.real, grid)"
   ]
  },
  {
   "cell_type": "code",
   "execution_count": 27,
   "id": "0fa32c26",
   "metadata": {},
   "outputs": [
    {
     "data": {
      "image/png": "[encoded data removed]",
      "text/plain": [
       "<Figure size 640x480 with 1 Axes>"
      ]
     },
     "metadata": {},
     "output_type": "display_data"
    }
   ],
   "source": [
    "plot_yz(result.real, grid)"
   ]
  },
  {
   "cell_type": "code",
   "execution_count": null,
   "id": "e76c8ef4",
   "metadata": {},
   "outputs": [],
   "source": []
  },
  {
   "cell_type": "code",
   "execution_count": null,
   "id": "2d4ebd3d",
   "metadata": {},
   "outputs": [],
   "source": []
  }
 ],
 "metadata": {
  "kernelspec": {
   "display_name": "Python 3 (ipykernel)",
   "language": "python",
   "name": "python3"
  },
  "language_info": {
   "codemirror_mode": {
    "name": "ipython",
    "version": 3
   },
   "file_extension": ".py",
   "mimetype": "text/x-python",
   "name": "python",
   "nbconvert_exporter": "python",
   "pygments_lexer": "ipython3",
   "version": "3.10.9"
  }
 },
 "nbformat": 4,
 "nbformat_minor": 5
}
